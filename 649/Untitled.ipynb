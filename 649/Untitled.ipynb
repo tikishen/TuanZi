{
 "cells": [
  {
   "cell_type": "code",
   "execution_count": 61,
   "metadata": {},
   "outputs": [],
   "source": [
    "import numpy as np\n",
    "import pandas as pd\n",
    "import seaborn as sns"
   ]
  },
  {
   "cell_type": "code",
   "execution_count": 66,
   "metadata": {},
   "outputs": [],
   "source": [
    "data = pd.read_csv('a1-burtin-wide.csv')"
   ]
  },
  {
   "cell_type": "code",
   "execution_count": 78,
   "metadata": {},
   "outputs": [
    {
     "data": {
      "text/html": [
       "<div>\n",
       "<style scoped>\n",
       "    .dataframe tbody tr th:only-of-type {\n",
       "        vertical-align: middle;\n",
       "    }\n",
       "\n",
       "    .dataframe tbody tr th {\n",
       "        vertical-align: top;\n",
       "    }\n",
       "\n",
       "    .dataframe thead th {\n",
       "        text-align: right;\n",
       "    }\n",
       "</style>\n",
       "<table border=\"1\" class=\"dataframe\">\n",
       "  <thead>\n",
       "    <tr style=\"text-align: right;\">\n",
       "      <th></th>\n",
       "      <th>Bacteria</th>\n",
       "      <th>Penicilin</th>\n",
       "      <th>Streptomycin</th>\n",
       "      <th>Neomycin</th>\n",
       "      <th>Gram Staining</th>\n",
       "      <th>Penicilin_log</th>\n",
       "    </tr>\n",
       "  </thead>\n",
       "  <tbody>\n",
       "    <tr>\n",
       "      <th>0</th>\n",
       "      <td>Aerobacter aerogenes</td>\n",
       "      <td>870.000</td>\n",
       "      <td>1.00</td>\n",
       "      <td>1.600</td>\n",
       "      <td>negative</td>\n",
       "      <td>6.774224</td>\n",
       "    </tr>\n",
       "    <tr>\n",
       "      <th>1</th>\n",
       "      <td>Brucella abortus</td>\n",
       "      <td>1.000</td>\n",
       "      <td>2.00</td>\n",
       "      <td>0.020</td>\n",
       "      <td>negative</td>\n",
       "      <td>1.791759</td>\n",
       "    </tr>\n",
       "    <tr>\n",
       "      <th>2</th>\n",
       "      <td>Brucella anthracis</td>\n",
       "      <td>0.001</td>\n",
       "      <td>0.01</td>\n",
       "      <td>0.007</td>\n",
       "      <td>positive</td>\n",
       "      <td>1.609638</td>\n",
       "    </tr>\n",
       "    <tr>\n",
       "      <th>3</th>\n",
       "      <td>Diplococcus pneumoniae</td>\n",
       "      <td>0.005</td>\n",
       "      <td>11.00</td>\n",
       "      <td>10.000</td>\n",
       "      <td>positive</td>\n",
       "      <td>1.610437</td>\n",
       "    </tr>\n",
       "    <tr>\n",
       "      <th>4</th>\n",
       "      <td>Escherichia coli</td>\n",
       "      <td>100.000</td>\n",
       "      <td>0.40</td>\n",
       "      <td>0.100</td>\n",
       "      <td>negative</td>\n",
       "      <td>4.653960</td>\n",
       "    </tr>\n",
       "    <tr>\n",
       "      <th>5</th>\n",
       "      <td>Klebsiella pneumoniae</td>\n",
       "      <td>850.000</td>\n",
       "      <td>1.20</td>\n",
       "      <td>1.000</td>\n",
       "      <td>negative</td>\n",
       "      <td>6.751101</td>\n",
       "    </tr>\n",
       "    <tr>\n",
       "      <th>6</th>\n",
       "      <td>Mycobacterium tuberculosis</td>\n",
       "      <td>800.000</td>\n",
       "      <td>5.00</td>\n",
       "      <td>2.000</td>\n",
       "      <td>negative</td>\n",
       "      <td>6.690842</td>\n",
       "    </tr>\n",
       "    <tr>\n",
       "      <th>7</th>\n",
       "      <td>Proteus vulgaris</td>\n",
       "      <td>3.000</td>\n",
       "      <td>0.10</td>\n",
       "      <td>0.100</td>\n",
       "      <td>negative</td>\n",
       "      <td>2.079442</td>\n",
       "    </tr>\n",
       "    <tr>\n",
       "      <th>8</th>\n",
       "      <td>Pseudomonas aeruginosa</td>\n",
       "      <td>850.000</td>\n",
       "      <td>2.00</td>\n",
       "      <td>0.400</td>\n",
       "      <td>negative</td>\n",
       "      <td>6.751101</td>\n",
       "    </tr>\n",
       "    <tr>\n",
       "      <th>9</th>\n",
       "      <td>Salmonella (Eberthella) typhosa</td>\n",
       "      <td>1.000</td>\n",
       "      <td>0.40</td>\n",
       "      <td>0.008</td>\n",
       "      <td>negative</td>\n",
       "      <td>1.791759</td>\n",
       "    </tr>\n",
       "    <tr>\n",
       "      <th>10</th>\n",
       "      <td>Salmonella schottmuelleri</td>\n",
       "      <td>10.000</td>\n",
       "      <td>0.80</td>\n",
       "      <td>0.090</td>\n",
       "      <td>negative</td>\n",
       "      <td>2.708050</td>\n",
       "    </tr>\n",
       "    <tr>\n",
       "      <th>11</th>\n",
       "      <td>Staphylococcus albus</td>\n",
       "      <td>0.007</td>\n",
       "      <td>0.10</td>\n",
       "      <td>0.001</td>\n",
       "      <td>positive</td>\n",
       "      <td>1.610837</td>\n",
       "    </tr>\n",
       "    <tr>\n",
       "      <th>12</th>\n",
       "      <td>Staphylococcus aureus</td>\n",
       "      <td>0.030</td>\n",
       "      <td>0.03</td>\n",
       "      <td>0.001</td>\n",
       "      <td>positive</td>\n",
       "      <td>1.615420</td>\n",
       "    </tr>\n",
       "    <tr>\n",
       "      <th>13</th>\n",
       "      <td>Streptococcus fecalis</td>\n",
       "      <td>1.000</td>\n",
       "      <td>1.00</td>\n",
       "      <td>0.100</td>\n",
       "      <td>positive</td>\n",
       "      <td>1.791759</td>\n",
       "    </tr>\n",
       "    <tr>\n",
       "      <th>14</th>\n",
       "      <td>Streptococcus hemolyticus</td>\n",
       "      <td>0.001</td>\n",
       "      <td>14.00</td>\n",
       "      <td>10.000</td>\n",
       "      <td>positive</td>\n",
       "      <td>1.609638</td>\n",
       "    </tr>\n",
       "    <tr>\n",
       "      <th>15</th>\n",
       "      <td>Streptococcus viridans</td>\n",
       "      <td>0.005</td>\n",
       "      <td>10.00</td>\n",
       "      <td>40.000</td>\n",
       "      <td>positive</td>\n",
       "      <td>1.610437</td>\n",
       "    </tr>\n",
       "  </tbody>\n",
       "</table>\n",
       "</div>"
      ],
      "text/plain": [
       "                           Bacteria   Penicilin  Streptomycin   Neomycin  \\\n",
       "0               Aerobacter aerogenes    870.000           1.00     1.600   \n",
       "1                   Brucella abortus      1.000           2.00     0.020   \n",
       "2                 Brucella anthracis      0.001           0.01     0.007   \n",
       "3             Diplococcus pneumoniae      0.005          11.00    10.000   \n",
       "4                   Escherichia coli    100.000           0.40     0.100   \n",
       "5              Klebsiella pneumoniae    850.000           1.20     1.000   \n",
       "6         Mycobacterium tuberculosis    800.000           5.00     2.000   \n",
       "7                   Proteus vulgaris      3.000           0.10     0.100   \n",
       "8            Pseudomonas aeruginosa     850.000           2.00     0.400   \n",
       "9   Salmonella (Eberthella) typhosa       1.000           0.40     0.008   \n",
       "10        Salmonella schottmuelleri      10.000           0.80     0.090   \n",
       "11             Staphylococcus albus       0.007           0.10     0.001   \n",
       "12            Staphylococcus aureus       0.030           0.03     0.001   \n",
       "13            Streptococcus fecalis       1.000           1.00     0.100   \n",
       "14        Streptococcus hemolyticus       0.001          14.00    10.000   \n",
       "15            Streptococcus viridans      0.005          10.00    40.000   \n",
       "\n",
       "   Gram Staining   Penicilin_log  \n",
       "0        negative       6.774224  \n",
       "1        negative       1.791759  \n",
       "2        positive       1.609638  \n",
       "3        positive       1.610437  \n",
       "4        negative       4.653960  \n",
       "5        negative       6.751101  \n",
       "6        negative       6.690842  \n",
       "7        negative       2.079442  \n",
       "8        negative       6.751101  \n",
       "9        negative       1.791759  \n",
       "10       negative       2.708050  \n",
       "11       positive       1.610837  \n",
       "12       positive       1.615420  \n",
       "13       positive       1.791759  \n",
       "14       positive       1.609638  \n",
       "15       positive       1.610437  "
      ]
     },
     "execution_count": 78,
     "metadata": {},
     "output_type": "execute_result"
    }
   ],
   "source": [
    "data"
   ]
  },
  {
   "cell_type": "code",
   "execution_count": 58,
   "metadata": {},
   "outputs": [
    {
     "data": {
      "text/plain": [
       "Index(['Bacteria ', 'Penicilin', 'Streptomycin ', 'Neomycin',\n",
       "       'Gram Staining '],\n",
       "      dtype='object')"
      ]
     },
     "execution_count": 58,
     "metadata": {},
     "output_type": "execute_result"
    }
   ],
   "source": [
    "data.columns"
   ]
  },
  {
   "cell_type": "code",
   "execution_count": 59,
   "metadata": {},
   "outputs": [
    {
     "data": {
      "text/plain": [
       "negative    9\n",
       "positive    7\n",
       "Name: Gram Staining , dtype: int64"
      ]
     },
     "execution_count": 59,
     "metadata": {},
     "output_type": "execute_result"
    }
   ],
   "source": [
    "data['Gram Staining '].value_counts()"
   ]
  },
  {
   "cell_type": "code",
   "execution_count": 86,
   "metadata": {},
   "outputs": [
    {
     "data": {
      "text/html": [
       "<div>\n",
       "<style scoped>\n",
       "    .dataframe tbody tr th:only-of-type {\n",
       "        vertical-align: middle;\n",
       "    }\n",
       "\n",
       "    .dataframe tbody tr th {\n",
       "        vertical-align: top;\n",
       "    }\n",
       "\n",
       "    .dataframe thead th {\n",
       "        text-align: right;\n",
       "    }\n",
       "</style>\n",
       "<table border=\"1\" class=\"dataframe\">\n",
       "  <thead>\n",
       "    <tr style=\"text-align: right;\">\n",
       "      <th></th>\n",
       "      <th>Bacteria</th>\n",
       "      <th>Penicilin</th>\n",
       "      <th>Streptomycin</th>\n",
       "      <th>Neomycin</th>\n",
       "      <th>Gram Staining</th>\n",
       "      <th>Penicilin_log</th>\n",
       "      <th>Streptomycin_log</th>\n",
       "      <th>Neomycin_log</th>\n",
       "    </tr>\n",
       "  </thead>\n",
       "  <tbody>\n",
       "    <tr>\n",
       "      <th>0</th>\n",
       "      <td>Aerobacter aerogenes</td>\n",
       "      <td>870.000</td>\n",
       "      <td>1.00</td>\n",
       "      <td>1.600</td>\n",
       "      <td>negative</td>\n",
       "      <td>6.772050</td>\n",
       "      <td>1.410987</td>\n",
       "      <td>1.547563</td>\n",
       "    </tr>\n",
       "    <tr>\n",
       "      <th>1</th>\n",
       "      <td>Brucella abortus</td>\n",
       "      <td>1.000</td>\n",
       "      <td>2.00</td>\n",
       "      <td>0.020</td>\n",
       "      <td>negative</td>\n",
       "      <td>1.410987</td>\n",
       "      <td>1.629241</td>\n",
       "      <td>1.137833</td>\n",
       "    </tr>\n",
       "    <tr>\n",
       "      <th>2</th>\n",
       "      <td>Brucella anthracis</td>\n",
       "      <td>0.001</td>\n",
       "      <td>0.01</td>\n",
       "      <td>0.007</td>\n",
       "      <td>positive</td>\n",
       "      <td>1.131725</td>\n",
       "      <td>1.134623</td>\n",
       "      <td>1.133658</td>\n",
       "    </tr>\n",
       "    <tr>\n",
       "      <th>3</th>\n",
       "      <td>Diplococcus pneumoniae</td>\n",
       "      <td>0.005</td>\n",
       "      <td>11.00</td>\n",
       "      <td>10.000</td>\n",
       "      <td>positive</td>\n",
       "      <td>1.133014</td>\n",
       "      <td>2.646175</td>\n",
       "      <td>2.572612</td>\n",
       "    </tr>\n",
       "    <tr>\n",
       "      <th>4</th>\n",
       "      <td>Escherichia coli</td>\n",
       "      <td>100.000</td>\n",
       "      <td>0.40</td>\n",
       "      <td>0.100</td>\n",
       "      <td>negative</td>\n",
       "      <td>4.635699</td>\n",
       "      <td>1.252763</td>\n",
       "      <td>1.163151</td>\n",
       "    </tr>\n",
       "  </tbody>\n",
       "</table>\n",
       "</div>"
      ],
      "text/plain": [
       "                Bacteria   Penicilin  Streptomycin   Neomycin Gram Staining   \\\n",
       "0    Aerobacter aerogenes    870.000           1.00     1.600       negative   \n",
       "1        Brucella abortus      1.000           2.00     0.020       negative   \n",
       "2      Brucella anthracis      0.001           0.01     0.007       positive   \n",
       "3  Diplococcus pneumoniae      0.005          11.00    10.000       positive   \n",
       "4        Escherichia coli    100.000           0.40     0.100       negative   \n",
       "\n",
       "   Penicilin_log  Streptomycin_log  Neomycin_log  \n",
       "0       6.772050          1.410987      1.547563  \n",
       "1       1.410987          1.629241      1.137833  \n",
       "2       1.131725          1.134623      1.133658  \n",
       "3       1.133014          2.646175      2.572612  \n",
       "4       4.635699          1.252763      1.163151  "
      ]
     },
     "execution_count": 86,
     "metadata": {},
     "output_type": "execute_result"
    }
   ],
   "source": [
    "data['Penicilin_log'] = np.log(data['Penicilin'] + 3.1)\n",
    "data['Streptomycin_log'] = np.log(data['Streptomycin '] + 3.1)\n",
    "data['Neomycin_log'] = np.log(data['Neomycin'] + 3.1)\n",
    "data.head()"
   ]
  },
  {
   "cell_type": "code",
   "execution_count": 87,
   "metadata": {},
   "outputs": [],
   "source": [
    "neg = data[data['Gram Staining '] == 'negative']"
   ]
  },
  {
   "cell_type": "code",
   "execution_count": 88,
   "metadata": {},
   "outputs": [],
   "source": [
    "pos = data[data['Gram Staining '] == 'positive']"
   ]
  },
  {
   "cell_type": "code",
   "execution_count": 82,
   "metadata": {},
   "outputs": [
    {
     "data": {
      "text/plain": [
       "['Aerobacter aerogenes',\n",
       " 'Brucella abortus',\n",
       " 'Escherichia coli',\n",
       " 'Klebsiella pneumoniae',\n",
       " 'Mycobacterium tuberculosis',\n",
       " 'Proteus vulgaris',\n",
       " 'Pseudomonas aeruginosa ',\n",
       " 'Salmonella (Eberthella) typhosa ',\n",
       " 'Salmonella schottmuelleri ']"
      ]
     },
     "execution_count": 82,
     "metadata": {},
     "output_type": "execute_result"
    }
   ],
   "source": [
    "neg['Bacteria '].tolist()"
   ]
  },
  {
   "cell_type": "code",
   "execution_count": 83,
   "metadata": {},
   "outputs": [
    {
     "data": {
      "text/plain": [
       "['Brucella anthracis',\n",
       " 'Diplococcus pneumoniae',\n",
       " 'Staphylococcus albus ',\n",
       " 'Staphylococcus aureus ',\n",
       " 'Streptococcus fecalis ',\n",
       " 'Streptococcus hemolyticus ',\n",
       " 'Streptococcus viridans']"
      ]
     },
     "execution_count": 83,
     "metadata": {},
     "output_type": "execute_result"
    }
   ],
   "source": [
    "pos['Bacteria '].tolist()"
   ]
  },
  {
   "cell_type": "code",
   "execution_count": 84,
   "metadata": {},
   "outputs": [
    {
     "data": {
      "text/plain": [
       "[6.772050096816762,\n",
       " 1.410986973710262,\n",
       " 4.635699391022914,\n",
       " 6.748876773914649,\n",
       " 6.688479239194416,\n",
       " 1.8082887711792655,\n",
       " 6.748876773914649,\n",
       " 1.410986973710262,\n",
       " 2.5726122302071057]"
      ]
     },
     "execution_count": 84,
     "metadata": {},
     "output_type": "execute_result"
    }
   ],
   "source": [
    "neg['Penicilin_log'].tolist()"
   ]
  },
  {
   "cell_type": "code",
   "execution_count": 85,
   "metadata": {},
   "outputs": [
    {
     "data": {
      "text/plain": [
       "[1.1317246401183119,\n",
       " 1.133013715385442,\n",
       " 1.1336576304109105,\n",
       " 1.1410330045520618,\n",
       " 1.410986973710262,\n",
       " 1.1317246401183119,\n",
       " 1.133013715385442]"
      ]
     },
     "execution_count": 85,
     "metadata": {},
     "output_type": "execute_result"
    }
   ],
   "source": [
    "pos['Penicilin_log'].tolist()"
   ]
  },
  {
   "cell_type": "code",
   "execution_count": 89,
   "metadata": {},
   "outputs": [
    {
     "data": {
      "text/plain": [
       "[1.410986973710262,\n",
       " 1.62924053973028,\n",
       " 1.252762968495368,\n",
       " 1.4586150226995167,\n",
       " 2.0918640616783932,\n",
       " 1.1631508098056809,\n",
       " 1.62924053973028,\n",
       " 1.252762968495368,\n",
       " 1.3609765531356008]"
      ]
     },
     "execution_count": 89,
     "metadata": {},
     "output_type": "execute_result"
    }
   ],
   "source": [
    "neg['Streptomycin_log'].tolist()"
   ]
  },
  {
   "cell_type": "code",
   "execution_count": 90,
   "metadata": {},
   "outputs": [
    {
     "data": {
      "text/plain": [
       "[1.1346227261911428,\n",
       " 2.6461747973841225,\n",
       " 1.1631508098056809,\n",
       " 1.1410330045520618,\n",
       " 1.410986973710262,\n",
       " 2.8390784635086144,\n",
       " 2.5726122302071057]"
      ]
     },
     "execution_count": 90,
     "metadata": {},
     "output_type": "execute_result"
    }
   ],
   "source": [
    "pos['Streptomycin_log'].tolist()"
   ]
  },
  {
   "cell_type": "code",
   "execution_count": 91,
   "metadata": {},
   "outputs": [
    {
     "data": {
      "text/plain": [
       "[1.547562508716013,\n",
       " 1.1378330018213911,\n",
       " 1.1631508098056809,\n",
       " 1.410986973710262,\n",
       " 1.62924053973028,\n",
       " 1.1631508098056809,\n",
       " 1.252762968495368,\n",
       " 1.1339794325054011,\n",
       " 1.1600209167967532]"
      ]
     },
     "execution_count": 91,
     "metadata": {},
     "output_type": "execute_result"
    }
   ],
   "source": [
    "neg['Neomycin_log'].tolist()"
   ]
  },
  {
   "cell_type": "code",
   "execution_count": 92,
   "metadata": {},
   "outputs": [
    {
     "data": {
      "text/plain": [
       "[1.1336576304109105,\n",
       " 2.5726122302071057,\n",
       " 1.1317246401183119,\n",
       " 1.1317246401183119,\n",
       " 1.1631508098056809,\n",
       " 2.5726122302071057,\n",
       " 3.763522997109702]"
      ]
     },
     "execution_count": 92,
     "metadata": {},
     "output_type": "execute_result"
    }
   ],
   "source": [
    "pos['Neomycin_log'].tolist()"
   ]
  },
  {
   "cell_type": "code",
   "execution_count": null,
   "metadata": {},
   "outputs": [],
   "source": []
  }
 ],
 "metadata": {
  "kernelspec": {
   "display_name": "Python 3",
   "language": "python",
   "name": "python3"
  },
  "language_info": {
   "codemirror_mode": {
    "name": "ipython",
    "version": 3
   },
   "file_extension": ".py",
   "mimetype": "text/x-python",
   "name": "python",
   "nbconvert_exporter": "python",
   "pygments_lexer": "ipython3",
   "version": "3.7.1"
  }
 },
 "nbformat": 4,
 "nbformat_minor": 2
}
